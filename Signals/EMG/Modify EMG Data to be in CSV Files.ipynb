{
 "cells": [
  {
   "cell_type": "markdown",
   "id": "1f8425a7",
   "metadata": {},
   "source": [
    "### Modify Data From txt to CSV"
   ]
  },
  {
   "cell_type": "code",
   "execution_count": 1,
   "id": "99eca436",
   "metadata": {},
   "outputs": [],
   "source": [
    "# Importing neccasary Libraries\n",
    "import pandas as pd\n",
    "import csv"
   ]
  },
  {
   "cell_type": "code",
   "execution_count": 2,
   "id": "c9911986",
   "metadata": {},
   "outputs": [],
   "source": [
    "files = ['emg_healthy', 'emg_myopathy', 'emg_neuropathy']"
   ]
  },
  {
   "cell_type": "code",
   "execution_count": 3,
   "id": "fd6575ab",
   "metadata": {},
   "outputs": [],
   "source": [
    "txt = '.txt'\n",
    "csv = '.csv'\n",
    "for file in files:\n",
    "    txt_file = file + txt\n",
    "    csv_file = file + csv\n",
    "    input_data = pd.read_csv(txt_file, delimiter = ' ')\n",
    "    input_data.to_csv(csv_file, index = None)\n",
    "    "
   ]
  },
  {
   "cell_type": "markdown",
   "id": "8111a4fa",
   "metadata": {},
   "source": [
    "### Modifying the first dataset"
   ]
  },
  {
   "cell_type": "code",
   "execution_count": 4,
   "id": "c9e20905",
   "metadata": {
    "scrolled": true
   },
   "outputs": [
    {
     "name": "stdout",
     "output_type": "stream",
     "text": [
      "   0.00025  -0.0333\n",
      "0  0.00050  -0.0350\n",
      "1  0.00075  -0.0350\n",
      "2  0.00100  -0.0300\n",
      "3  0.00125  -0.0300\n",
      "4  0.00150  -0.0333\n",
      "\n",
      "<class 'pandas.core.frame.DataFrame'>\n",
      "RangeIndex: 50857 entries, 0 to 50856\n",
      "Data columns (total 2 columns):\n",
      " #   Column   Non-Null Count  Dtype  \n",
      "---  ------   --------------  -----  \n",
      " 0   0.00025  50857 non-null  float64\n",
      " 1   -0.0333  50857 non-null  float64\n",
      "dtypes: float64(2)\n",
      "memory usage: 794.8 KB\n"
     ]
    }
   ],
   "source": [
    "# The dataset concerned about the Haelthy People\n",
    "df_1 = pd.read_csv(\"./emg_healthy.csv\")\n",
    "print(df_1.head())\n",
    "print()\n",
    "df_1.info()"
   ]
  },
  {
   "cell_type": "code",
   "execution_count": 5,
   "id": "b1591262",
   "metadata": {},
   "outputs": [
    {
     "data": {
      "text/html": [
       "<div>\n",
       "<style scoped>\n",
       "    .dataframe tbody tr th:only-of-type {\n",
       "        vertical-align: middle;\n",
       "    }\n",
       "\n",
       "    .dataframe tbody tr th {\n",
       "        vertical-align: top;\n",
       "    }\n",
       "\n",
       "    .dataframe thead th {\n",
       "        text-align: right;\n",
       "    }\n",
       "</style>\n",
       "<table border=\"1\" class=\"dataframe\">\n",
       "  <thead>\n",
       "    <tr style=\"text-align: right;\">\n",
       "      <th></th>\n",
       "      <th>Time</th>\n",
       "      <th>Value</th>\n",
       "    </tr>\n",
       "  </thead>\n",
       "  <tbody>\n",
       "    <tr>\n",
       "      <th>0</th>\n",
       "      <td>0.00050</td>\n",
       "      <td>-0.0350</td>\n",
       "    </tr>\n",
       "    <tr>\n",
       "      <th>1</th>\n",
       "      <td>0.00075</td>\n",
       "      <td>-0.0350</td>\n",
       "    </tr>\n",
       "    <tr>\n",
       "      <th>2</th>\n",
       "      <td>0.00100</td>\n",
       "      <td>-0.0300</td>\n",
       "    </tr>\n",
       "    <tr>\n",
       "      <th>3</th>\n",
       "      <td>0.00125</td>\n",
       "      <td>-0.0300</td>\n",
       "    </tr>\n",
       "    <tr>\n",
       "      <th>4</th>\n",
       "      <td>0.00150</td>\n",
       "      <td>-0.0333</td>\n",
       "    </tr>\n",
       "    <tr>\n",
       "      <th>...</th>\n",
       "      <td>...</td>\n",
       "      <td>...</td>\n",
       "    </tr>\n",
       "    <tr>\n",
       "      <th>50852</th>\n",
       "      <td>12.71400</td>\n",
       "      <td>0.0050</td>\n",
       "    </tr>\n",
       "    <tr>\n",
       "      <th>50853</th>\n",
       "      <td>12.71420</td>\n",
       "      <td>0.0067</td>\n",
       "    </tr>\n",
       "    <tr>\n",
       "      <th>50854</th>\n",
       "      <td>12.71450</td>\n",
       "      <td>0.0050</td>\n",
       "    </tr>\n",
       "    <tr>\n",
       "      <th>50855</th>\n",
       "      <td>12.71480</td>\n",
       "      <td>0.0050</td>\n",
       "    </tr>\n",
       "    <tr>\n",
       "      <th>50856</th>\n",
       "      <td>12.71500</td>\n",
       "      <td>0.0083</td>\n",
       "    </tr>\n",
       "  </tbody>\n",
       "</table>\n",
       "<p>50857 rows × 2 columns</p>\n",
       "</div>"
      ],
      "text/plain": [
       "           Time   Value\n",
       "0       0.00050 -0.0350\n",
       "1       0.00075 -0.0350\n",
       "2       0.00100 -0.0300\n",
       "3       0.00125 -0.0300\n",
       "4       0.00150 -0.0333\n",
       "...         ...     ...\n",
       "50852  12.71400  0.0050\n",
       "50853  12.71420  0.0067\n",
       "50854  12.71450  0.0050\n",
       "50855  12.71480  0.0050\n",
       "50856  12.71500  0.0083\n",
       "\n",
       "[50857 rows x 2 columns]"
      ]
     },
     "execution_count": 5,
     "metadata": {},
     "output_type": "execute_result"
    }
   ],
   "source": [
    "# So we need to convert the type of data\n",
    "df_1.columns = ['Time', 'Value']\n",
    "df_1['Time'].astype('float')\n",
    "df_1['Value'].astype('float')\n",
    "df_1.dropna()"
   ]
  },
  {
   "cell_type": "code",
   "execution_count": 6,
   "id": "355ed5ac",
   "metadata": {},
   "outputs": [
    {
     "name": "stdout",
     "output_type": "stream",
     "text": [
      "<class 'pandas.core.frame.DataFrame'>\n",
      "RangeIndex: 50857 entries, 0 to 50856\n",
      "Data columns (total 2 columns):\n",
      " #   Column  Non-Null Count  Dtype  \n",
      "---  ------  --------------  -----  \n",
      " 0   Time    50857 non-null  float64\n",
      " 1   Value   50857 non-null  float64\n",
      "dtypes: float64(2)\n",
      "memory usage: 794.8 KB\n"
     ]
    }
   ],
   "source": [
    "df_1.info()"
   ]
  },
  {
   "cell_type": "code",
   "execution_count": 7,
   "id": "079e64d6",
   "metadata": {},
   "outputs": [],
   "source": [
    "df_1.to_csv('EMG_Healthy_Modified.csv', index=False)"
   ]
  },
  {
   "cell_type": "code",
   "execution_count": 8,
   "id": "4b5b446a",
   "metadata": {},
   "outputs": [],
   "source": [
    "df_1['Time'] = df_1['Time'][0:1200]\n",
    "df_1['Value'] = df_1['Value'][0:1200]\n",
    "df_1.to_csv('EMG_Healthy_Modified_Less_Data.csv', index=False)"
   ]
  },
  {
   "cell_type": "markdown",
   "id": "00e9df06",
   "metadata": {},
   "source": [
    "### Modifying the second dataset"
   ]
  },
  {
   "cell_type": "code",
   "execution_count": 9,
   "id": "f53a25e7",
   "metadata": {},
   "outputs": [
    {
     "name": "stdout",
     "output_type": "stream",
     "text": [
      "   0.00025  -0.0050\n",
      "0  0.00050  -0.0100\n",
      "1  0.00075  -0.0050\n",
      "2  0.00100  -0.0100\n",
      "3  0.00125  -0.0067\n",
      "4  0.00150  -0.0017\n",
      "\n",
      "<class 'pandas.core.frame.DataFrame'>\n",
      "RangeIndex: 110334 entries, 0 to 110333\n",
      "Data columns (total 2 columns):\n",
      " #   Column   Non-Null Count   Dtype  \n",
      "---  ------   --------------   -----  \n",
      " 0   0.00025  110334 non-null  float64\n",
      " 1   -0.0050  110334 non-null  float64\n",
      "dtypes: float64(2)\n",
      "memory usage: 1.7 MB\n"
     ]
    }
   ],
   "source": [
    "# The dataset concerned about the People with myopathy\n",
    "df_2 = pd.read_csv(\"./emg_myopathy.csv\")\n",
    "print(df_2.head())\n",
    "print()\n",
    "df_2.info()"
   ]
  },
  {
   "cell_type": "code",
   "execution_count": 10,
   "id": "8880121a",
   "metadata": {},
   "outputs": [
    {
     "data": {
      "text/html": [
       "<div>\n",
       "<style scoped>\n",
       "    .dataframe tbody tr th:only-of-type {\n",
       "        vertical-align: middle;\n",
       "    }\n",
       "\n",
       "    .dataframe tbody tr th {\n",
       "        vertical-align: top;\n",
       "    }\n",
       "\n",
       "    .dataframe thead th {\n",
       "        text-align: right;\n",
       "    }\n",
       "</style>\n",
       "<table border=\"1\" class=\"dataframe\">\n",
       "  <thead>\n",
       "    <tr style=\"text-align: right;\">\n",
       "      <th></th>\n",
       "      <th>Time</th>\n",
       "      <th>Value</th>\n",
       "    </tr>\n",
       "  </thead>\n",
       "  <tbody>\n",
       "    <tr>\n",
       "      <th>0</th>\n",
       "      <td>0.00050</td>\n",
       "      <td>-0.0100</td>\n",
       "    </tr>\n",
       "    <tr>\n",
       "      <th>1</th>\n",
       "      <td>0.00075</td>\n",
       "      <td>-0.0050</td>\n",
       "    </tr>\n",
       "    <tr>\n",
       "      <th>2</th>\n",
       "      <td>0.00100</td>\n",
       "      <td>-0.0100</td>\n",
       "    </tr>\n",
       "    <tr>\n",
       "      <th>3</th>\n",
       "      <td>0.00125</td>\n",
       "      <td>-0.0067</td>\n",
       "    </tr>\n",
       "    <tr>\n",
       "      <th>4</th>\n",
       "      <td>0.00150</td>\n",
       "      <td>-0.0017</td>\n",
       "    </tr>\n",
       "    <tr>\n",
       "      <th>...</th>\n",
       "      <td>...</td>\n",
       "      <td>...</td>\n",
       "    </tr>\n",
       "    <tr>\n",
       "      <th>110329</th>\n",
       "      <td>27.60280</td>\n",
       "      <td>0.1167</td>\n",
       "    </tr>\n",
       "    <tr>\n",
       "      <th>110330</th>\n",
       "      <td>27.60300</td>\n",
       "      <td>0.1550</td>\n",
       "    </tr>\n",
       "    <tr>\n",
       "      <th>110331</th>\n",
       "      <td>27.60320</td>\n",
       "      <td>0.1550</td>\n",
       "    </tr>\n",
       "    <tr>\n",
       "      <th>110332</th>\n",
       "      <td>27.60350</td>\n",
       "      <td>0.1200</td>\n",
       "    </tr>\n",
       "    <tr>\n",
       "      <th>110333</th>\n",
       "      <td>27.60380</td>\n",
       "      <td>0.1150</td>\n",
       "    </tr>\n",
       "  </tbody>\n",
       "</table>\n",
       "<p>110334 rows × 2 columns</p>\n",
       "</div>"
      ],
      "text/plain": [
       "            Time   Value\n",
       "0        0.00050 -0.0100\n",
       "1        0.00075 -0.0050\n",
       "2        0.00100 -0.0100\n",
       "3        0.00125 -0.0067\n",
       "4        0.00150 -0.0017\n",
       "...          ...     ...\n",
       "110329  27.60280  0.1167\n",
       "110330  27.60300  0.1550\n",
       "110331  27.60320  0.1550\n",
       "110332  27.60350  0.1200\n",
       "110333  27.60380  0.1150\n",
       "\n",
       "[110334 rows x 2 columns]"
      ]
     },
     "execution_count": 10,
     "metadata": {},
     "output_type": "execute_result"
    }
   ],
   "source": [
    "# So we need to convert the type of data\n",
    "df_2.columns = ['Time', 'Value']\n",
    "df_2['Time'].astype('float')\n",
    "df_2['Value'].astype('float')\n",
    "df_2.dropna()"
   ]
  },
  {
   "cell_type": "code",
   "execution_count": 11,
   "id": "f85d3ddb",
   "metadata": {},
   "outputs": [
    {
     "name": "stdout",
     "output_type": "stream",
     "text": [
      "<class 'pandas.core.frame.DataFrame'>\n",
      "RangeIndex: 110334 entries, 0 to 110333\n",
      "Data columns (total 2 columns):\n",
      " #   Column  Non-Null Count   Dtype  \n",
      "---  ------  --------------   -----  \n",
      " 0   Time    110334 non-null  float64\n",
      " 1   Value   110334 non-null  float64\n",
      "dtypes: float64(2)\n",
      "memory usage: 1.7 MB\n"
     ]
    }
   ],
   "source": [
    "df_2.info()"
   ]
  },
  {
   "cell_type": "code",
   "execution_count": 12,
   "id": "ccc4cdf8",
   "metadata": {},
   "outputs": [],
   "source": [
    "df_2.to_csv(\"EMG_Myopathy_Modified.csv\", index=False)"
   ]
  },
  {
   "cell_type": "code",
   "execution_count": 13,
   "id": "8974bfff",
   "metadata": {},
   "outputs": [],
   "source": [
    "df_2['Time'] = df_2['Time'][0:1200]\n",
    "df_2['Value'] = df_2['Value'][0:1200]\n",
    "df_2.to_csv(\"EMG_Myopathy_Modified_Less_Data.csv\", index=False)"
   ]
  },
  {
   "cell_type": "markdown",
   "id": "40121cb7",
   "metadata": {},
   "source": [
    "### Modifying the third dataset"
   ]
  },
  {
   "cell_type": "code",
   "execution_count": 14,
   "id": "266775b3",
   "metadata": {},
   "outputs": [
    {
     "name": "stdout",
     "output_type": "stream",
     "text": [
      "   0.00025  0.0900\n",
      "0  0.00050  0.0767\n",
      "1  0.00075  0.0767\n",
      "2  0.00100  0.0733\n",
      "3  0.00125  0.0717\n",
      "4  0.00150  0.0667\n",
      "\n",
      "<class 'pandas.core.frame.DataFrame'>\n",
      "RangeIndex: 147855 entries, 0 to 147854\n",
      "Data columns (total 2 columns):\n",
      " #   Column   Non-Null Count   Dtype  \n",
      "---  ------   --------------   -----  \n",
      " 0   0.00025  147855 non-null  float64\n",
      " 1   0.0900   147855 non-null  float64\n",
      "dtypes: float64(2)\n",
      "memory usage: 2.3 MB\n"
     ]
    }
   ],
   "source": [
    "df_3 = pd.read_csv(\"./emg_neuropathy.csv\")\n",
    "print(df_3.head())\n",
    "print()\n",
    "df_3.info()"
   ]
  },
  {
   "cell_type": "code",
   "execution_count": 15,
   "id": "1c144869",
   "metadata": {},
   "outputs": [
    {
     "data": {
      "text/html": [
       "<div>\n",
       "<style scoped>\n",
       "    .dataframe tbody tr th:only-of-type {\n",
       "        vertical-align: middle;\n",
       "    }\n",
       "\n",
       "    .dataframe tbody tr th {\n",
       "        vertical-align: top;\n",
       "    }\n",
       "\n",
       "    .dataframe thead th {\n",
       "        text-align: right;\n",
       "    }\n",
       "</style>\n",
       "<table border=\"1\" class=\"dataframe\">\n",
       "  <thead>\n",
       "    <tr style=\"text-align: right;\">\n",
       "      <th></th>\n",
       "      <th>Time</th>\n",
       "      <th>Value</th>\n",
       "    </tr>\n",
       "  </thead>\n",
       "  <tbody>\n",
       "    <tr>\n",
       "      <th>0</th>\n",
       "      <td>0.00050</td>\n",
       "      <td>0.0767</td>\n",
       "    </tr>\n",
       "    <tr>\n",
       "      <th>1</th>\n",
       "      <td>0.00075</td>\n",
       "      <td>0.0767</td>\n",
       "    </tr>\n",
       "    <tr>\n",
       "      <th>2</th>\n",
       "      <td>0.00100</td>\n",
       "      <td>0.0733</td>\n",
       "    </tr>\n",
       "    <tr>\n",
       "      <th>3</th>\n",
       "      <td>0.00125</td>\n",
       "      <td>0.0717</td>\n",
       "    </tr>\n",
       "    <tr>\n",
       "      <th>4</th>\n",
       "      <td>0.00150</td>\n",
       "      <td>0.0667</td>\n",
       "    </tr>\n",
       "    <tr>\n",
       "      <th>...</th>\n",
       "      <td>...</td>\n",
       "      <td>...</td>\n",
       "    </tr>\n",
       "    <tr>\n",
       "      <th>147850</th>\n",
       "      <td>37.03550</td>\n",
       "      <td>0.0783</td>\n",
       "    </tr>\n",
       "    <tr>\n",
       "      <th>147851</th>\n",
       "      <td>37.03580</td>\n",
       "      <td>0.0767</td>\n",
       "    </tr>\n",
       "    <tr>\n",
       "      <th>147852</th>\n",
       "      <td>37.03600</td>\n",
       "      <td>0.0633</td>\n",
       "    </tr>\n",
       "    <tr>\n",
       "      <th>147853</th>\n",
       "      <td>37.03630</td>\n",
       "      <td>0.0633</td>\n",
       "    </tr>\n",
       "    <tr>\n",
       "      <th>147854</th>\n",
       "      <td>37.03650</td>\n",
       "      <td>0.0283</td>\n",
       "    </tr>\n",
       "  </tbody>\n",
       "</table>\n",
       "<p>147855 rows × 2 columns</p>\n",
       "</div>"
      ],
      "text/plain": [
       "            Time   Value\n",
       "0        0.00050  0.0767\n",
       "1        0.00075  0.0767\n",
       "2        0.00100  0.0733\n",
       "3        0.00125  0.0717\n",
       "4        0.00150  0.0667\n",
       "...          ...     ...\n",
       "147850  37.03550  0.0783\n",
       "147851  37.03580  0.0767\n",
       "147852  37.03600  0.0633\n",
       "147853  37.03630  0.0633\n",
       "147854  37.03650  0.0283\n",
       "\n",
       "[147855 rows x 2 columns]"
      ]
     },
     "execution_count": 15,
     "metadata": {},
     "output_type": "execute_result"
    }
   ],
   "source": [
    "# So we need to convert the type of data\n",
    "df_3.columns = ['Time', 'Value']\n",
    "df_3['Time'].astype('float')\n",
    "df_3['Value'].astype('float')\n",
    "df_3.dropna()"
   ]
  },
  {
   "cell_type": "code",
   "execution_count": 16,
   "id": "2e81550b",
   "metadata": {},
   "outputs": [
    {
     "name": "stdout",
     "output_type": "stream",
     "text": [
      "<class 'pandas.core.frame.DataFrame'>\n",
      "RangeIndex: 147855 entries, 0 to 147854\n",
      "Data columns (total 2 columns):\n",
      " #   Column  Non-Null Count   Dtype  \n",
      "---  ------  --------------   -----  \n",
      " 0   Time    147855 non-null  float64\n",
      " 1   Value   147855 non-null  float64\n",
      "dtypes: float64(2)\n",
      "memory usage: 2.3 MB\n"
     ]
    }
   ],
   "source": [
    "df_3.info()"
   ]
  },
  {
   "cell_type": "code",
   "execution_count": 17,
   "id": "f7ff6ee2",
   "metadata": {},
   "outputs": [],
   "source": [
    "df_3.to_csv(\"EMG_Neuropathy_Modified.csv\", index=False)"
   ]
  },
  {
   "cell_type": "code",
   "execution_count": 18,
   "id": "7d8379d4",
   "metadata": {},
   "outputs": [],
   "source": [
    "df_3['Time'] = df_3['Time'][0:1200]\n",
    "df_3['Value'] = df_3['Value'][0:1200]\n",
    "df_3.to_csv(\"EMG_Neuropathy_Modified_Less_Data.csv\", index=False)"
   ]
  }
 ],
 "metadata": {
  "kernelspec": {
   "display_name": "Python 3",
   "language": "python",
   "name": "python3"
  },
  "language_info": {
   "codemirror_mode": {
    "name": "ipython",
    "version": 3
   },
   "file_extension": ".py",
   "mimetype": "text/x-python",
   "name": "python",
   "nbconvert_exporter": "python",
   "pygments_lexer": "ipython3",
   "version": "3.8.8"
  }
 },
 "nbformat": 4,
 "nbformat_minor": 5
}
